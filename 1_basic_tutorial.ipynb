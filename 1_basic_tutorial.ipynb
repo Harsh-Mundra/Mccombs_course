{
  "nbformat": 4,
  "nbformat_minor": 0,
  "metadata": {
    "colab": {
      "name": "1_basic_tutorial.ipynb",
      "provenance": [],
      "include_colab_link": true
    },
    "kernelspec": {
      "name": "python3",
      "display_name": "Python 3"
    }
  },
  "cells": [
    {
      "cell_type": "markdown",
      "metadata": {
        "id": "view-in-github",
        "colab_type": "text"
      },
      "source": [
        "<a href=\"https://colab.research.google.com/github/Harsh-Mundra/Mccombs_course/blob/master/1_basic_tutorial.ipynb\" target=\"_parent\"><img src=\"https://colab.research.google.com/assets/colab-badge.svg\" alt=\"Open In Colab\"/></a>"
      ]
    },
    {
      "cell_type": "code",
      "metadata": {
        "id": "rJXD-7LPEFQv",
        "colab_type": "code",
        "colab": {
          "base_uri": "https://localhost:8080/",
          "height": 384
        },
        "outputId": "8dc98277-a374-44c2-e9a5-fae3cb6cc5ca"
      },
      "source": [
        "# Install and update essential libraries\n",
        "\n",
        "# The below line deletes all files and folders from the current VM and allocates a new one.\n",
        "\n",
        "# !kill -9 -1 # Use this line to kill this VM and start a new one. \n",
        "\n",
        "!apt -q update\n",
        "!apt install -y -q tree"
      ],
      "execution_count": null,
      "outputs": [
        {
          "output_type": "stream",
          "text": [
            "Hit:1 http://security.ubuntu.com/ubuntu bionic-security InRelease\n",
            "Hit:2 https://cloud.r-project.org/bin/linux/ubuntu bionic-cran35/ InRelease\n",
            "Ign:3 https://developer.download.nvidia.com/compute/cuda/repos/ubuntu1804/x86_64  InRelease\n",
            "Ign:4 https://developer.download.nvidia.com/compute/machine-learning/repos/ubuntu1804/x86_64  InRelease\n",
            "Hit:5 https://developer.download.nvidia.com/compute/cuda/repos/ubuntu1804/x86_64  Release\n",
            "Hit:6 http://ppa.launchpad.net/graphics-drivers/ppa/ubuntu bionic InRelease\n",
            "Hit:7 http://archive.ubuntu.com/ubuntu bionic InRelease\n",
            "Hit:8 https://developer.download.nvidia.com/compute/machine-learning/repos/ubuntu1804/x86_64  Release\n",
            "Hit:9 http://ppa.launchpad.net/marutter/c2d4u3.5/ubuntu bionic InRelease\n",
            "Hit:10 http://archive.ubuntu.com/ubuntu bionic-updates InRelease\n",
            "Hit:11 http://archive.ubuntu.com/ubuntu bionic-backports InRelease\n",
            "Reading package lists...\n",
            "Building dependency tree...\n",
            "Reading state information...\n",
            "76 packages can be upgraded. Run 'apt list --upgradable' to see them.\n",
            "Reading package lists...\n",
            "Building dependency tree...\n",
            "Reading state information...\n",
            "tree is already the newest version (1.7.0-5).\n",
            "0 upgraded, 0 newly installed, 0 to remove and 76 not upgraded.\n"
          ],
          "name": "stdout"
        }
      ]
    },
    {
      "cell_type": "code",
      "metadata": {
        "id": "T6OBLmLaBmuf",
        "colab_type": "code",
        "colab": {}
      },
      "source": [
        "# Download a file from Google Drive using FILE_ID\n",
        "\n",
        "# Install the PyDrive wrapper & import libraries.\n",
        "# This only needs to be done once per notebook.\n",
        "!pip install -U -q PyDrive\n",
        "from pydrive.auth import GoogleAuth\n",
        "from pydrive.drive import GoogleDrive\n",
        "from google.colab import auth\n",
        "from oauth2client.client import GoogleCredentials\n",
        "\n",
        "# Authenticate and create the PyDrive client.\n",
        "# This only needs to be done once per notebook.\n",
        "auth.authenticate_user()\n",
        "gauth = GoogleAuth()\n",
        "gauth.credentials = GoogleCredentials.get_application_default()\n",
        "drive = GoogleDrive(gauth)"
      ],
      "execution_count": 2,
      "outputs": []
    },
    {
      "cell_type": "code",
      "metadata": {
        "id": "7LXSLygh-yOt",
        "colab_type": "code",
        "colab": {}
      },
      "source": [
        "# Download a file based on its file ID.\n",
        "#\n",
        "# A file ID looks like: 1rhnzJ8CD9Amdz5OMi8s4kqT5b00jY5k4\n",
        "# Visit https://help.meiro.io/en/articles/2245027-where-can-i-find-the-file-id-on-google-drive\n",
        "# for more details on getting the FILE ID.\n",
        "\n",
        "def download_file(file_id, file_name):\n",
        "    '''\n",
        "    file_id: Make sure that you can access this file from your account or else, this will not run\n",
        "    file_name: Name of the file by which you want to save\n",
        "    '''\n",
        "    downloaded = drive.CreateFile({'id': file_id})\n",
        "    downloaded.GetContentFile(file_name)\n",
        "    print('Downloaded file with ID {} and name {}'.format(file_id, file_name))"
      ],
      "execution_count": 4,
      "outputs": []
    },
    {
      "cell_type": "code",
      "metadata": {
        "id": "TomR61Sb-yaL",
        "colab_type": "code",
        "colab": {}
      },
      "source": [
        "def upload_file(file_name):\n",
        "    # If the file is large, upload to Google Drive to download easily.\n",
        "    # Upload a file from the current VM.\n",
        "\n",
        "    uploaded = drive.CreateFile({'title': file_name})\n",
        "    uploaded.SetContentFile(file_name)\n",
        "    uploaded.Upload()\n",
        "    print('Uploaded file with ID {}'.format(uploaded.get('id')))"
      ],
      "execution_count": 5,
      "outputs": []
    },
    {
      "cell_type": "code",
      "metadata": {
        "id": "59e8bvKT_fnZ",
        "colab_type": "code",
        "colab": {
          "base_uri": "https://localhost:8080/",
          "height": 34
        },
        "outputId": "201dcd21-3c09-49c0-940f-9e6365844193"
      },
      "source": [
        "download_file('1gq8R0y9qj9X7KxMFAdwGXagIPCbbl19E', 'hw0.pdf')"
      ],
      "execution_count": 8,
      "outputs": [
        {
          "output_type": "stream",
          "text": [
            "Downloaded file with ID 1gq8R0y9qj9X7KxMFAdwGXagIPCbbl19E and name hw0.pdf\n"
          ],
          "name": "stdout"
        }
      ]
    },
    {
      "cell_type": "code",
      "metadata": {
        "id": "t_x6-D1_CsKa",
        "colab_type": "code",
        "colab": {
          "base_uri": "https://localhost:8080/",
          "height": 34
        },
        "outputId": "71d04bfa-faa8-40e3-97ba-e7f704d26801"
      },
      "source": [
        "# Create a dummy file to download to local system\n",
        "!echo \"abcde\" > file.txt\n",
        "file_name = 'file.txt'\n",
        "!ls"
      ],
      "execution_count": 10,
      "outputs": [
        {
          "output_type": "stream",
          "text": [
            "adc.json  file.txt  hw0.pdf  sample_data\n"
          ],
          "name": "stdout"
        }
      ]
    },
    {
      "cell_type": "code",
      "metadata": {
        "id": "qKbo4rVXC1LY",
        "colab_type": "code",
        "colab": {
          "base_uri": "https://localhost:8080/",
          "height": 348
        },
        "outputId": "4721fdf0-d2bd-47ca-ef34-ed19c4309f8e"
      },
      "source": [
        "# Create dummy folders and files to demonstrate zip files\n",
        "!mkdir -p new_folder\n",
        "\n",
        "!cd new_folder && ls \n",
        "# On colab cd command does not persist.\n",
        "# So, make sure to use && command for cd. Example given below:\n",
        "\n",
        "!cd new_folder && echo \"new file\" > new_file.txt\n",
        "!echo \"new file\" > new_file.txt\n",
        "\n",
        "# See the current file structure\n",
        "!tree\n"
      ],
      "execution_count": null,
      "outputs": [
        {
          "output_type": "stream",
          "text": [
            "new_file.txt\n",
            ".\n",
            "├── adc.json\n",
            "├── curr_zip_file.zip\n",
            "├── file.txt\n",
            "├── FILE.txt\n",
            "├── new_file.txt\n",
            "├── new_folder\n",
            "│   └── new_file.txt\n",
            "└── sample_data\n",
            "    ├── anscombe.json\n",
            "    ├── california_housing_test.csv\n",
            "    ├── california_housing_train.csv\n",
            "    ├── mnist_test.csv\n",
            "    ├── mnist_train_small.csv\n",
            "    └── README.md\n",
            "\n",
            "2 directories, 12 files\n"
          ],
          "name": "stdout"
        }
      ]
    },
    {
      "cell_type": "code",
      "metadata": {
        "id": "cAWgufhqEY3H",
        "colab_type": "code",
        "colab": {}
      },
      "source": [
        "# Create a zip file containing an entire folder\n",
        "# https://askubuntu.com/a/660032\n",
        "\n",
        "!zip -q -r curr_zip_file.zip new_folder/"
      ],
      "execution_count": null,
      "outputs": []
    },
    {
      "cell_type": "code",
      "metadata": {
        "id": "X4PspCVTEpUx",
        "colab_type": "code",
        "colab": {
          "base_uri": "https://localhost:8080/",
          "height": 35
        },
        "outputId": "96f72fc8-2d7e-4610-c068-94c1afd78758"
      },
      "source": [
        "upload_file('curr_zip_file.zip')"
      ],
      "execution_count": null,
      "outputs": [
        {
          "output_type": "stream",
          "text": [
            "Uploaded file with ID 1igecVTkm8_kU7RPa5V_j4S6jta207-4-\n"
          ],
          "name": "stdout"
        }
      ]
    },
    {
      "cell_type": "code",
      "metadata": {
        "id": "It-UPZBmFFyw",
        "colab_type": "code",
        "colab": {}
      },
      "source": [
        ""
      ],
      "execution_count": null,
      "outputs": []
    }
  ]
}